{
  "nbformat": 4,
  "nbformat_minor": 0,
  "metadata": {
    "colab": {
      "provenance": []
    },
    "kernelspec": {
      "name": "python3",
      "display_name": "Python 3"
    },
    "language_info": {
      "name": "python"
    }
  },
  "cells": [
    {
      "cell_type": "code",
      "source": [
        "import time\n",
        "\n",
        "def countdown(time_sec):\n",
        "  while time_sec:\n",
        "    mins, secs = divmod(time_sec, 60)\n",
        "    timeformat = '{:02d}:{:02d}'.format(mins, secs)\n",
        "    print(timeformat, end='\\r')\n",
        "    time.sleep(2)\n",
        "    time_sec -= 1\n",
        "\n",
        "    print(\"This is a Notification\")\n",
        "num = int(input(\"Set Your Timer in Seconds:\"))\n",
        "countdown(num)"
      ],
      "metadata": {
        "id": "tL8AcGqPBV1y",
        "colab": {
          "base_uri": "https://localhost:8080/"
        },
        "outputId": "257d02c2-081b-4d21-d06c-84a038faf6a7"
      },
      "execution_count": null,
      "outputs": [
        {
          "output_type": "stream",
          "name": "stdout",
          "text": [
            "Set Your Timer in Seconds:5\n",
            "This is a Notification\n",
            "This is a Notification\n",
            "This is a Notification\n",
            "This is a Notification\n",
            "This is a Notification\n"
          ]
        }
      ]
    },
    {
      "cell_type": "code",
      "source": [],
      "metadata": {
        "id": "AckmkXQkZgaj"
      },
      "execution_count": null,
      "outputs": []
    }
  ]
}